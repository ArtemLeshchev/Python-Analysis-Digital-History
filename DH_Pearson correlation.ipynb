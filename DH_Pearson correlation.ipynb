{
 "cells": [
  {
   "cell_type": "code",
   "execution_count": 1,
   "id": "f7cdd4f7",
   "metadata": {},
   "outputs": [
    {
     "name": "stdout",
     "output_type": "stream",
     "text": [
      "<class 'pandas.core.frame.DataFrame'>\n",
      "RangeIndex: 1990 entries, 0 to 1989\n",
      "Data columns (total 9 columns):\n",
      " #   Column    Non-Null Count  Dtype         \n",
      "---  ------    --------------  -----         \n",
      " 0   Url       1990 non-null   object        \n",
      " 1   Likes     1990 non-null   int64         \n",
      " 2   Reposts   1990 non-null   int64         \n",
      " 3   Comments  1990 non-null   int64         \n",
      " 4   Views     1990 non-null   int64         \n",
      " 5   ER        1990 non-null   float64       \n",
      " 6   Text      1990 non-null   object        \n",
      " 7   Date      1990 non-null   datetime64[ns]\n",
      " 8   Author    1990 non-null   object        \n",
      "dtypes: datetime64[ns](1), float64(1), int64(4), object(3)\n",
      "memory usage: 140.0+ KB\n"
     ]
    }
   ],
   "source": [
    "import pandas as pd\n",
    "import numpy as np\n",
    "import pandas_profiling\n",
    "import seaborn as sns\n",
    "import matplotlib.pyplot as plt\n",
    "\n",
    "df = pd.read_excel('C:/Users/User/Python_data_analysis/ЦИ/ЦИ_эксель.xlsx')\n",
    "\n",
    "df.info()"
   ]
  },
  {
   "cell_type": "markdown",
   "id": "4fbc9032",
   "metadata": {},
   "source": [
    "# Корреляция Пирсона"
   ]
  },
  {
   "cell_type": "code",
   "execution_count": 40,
   "id": "2cfa3546",
   "metadata": {},
   "outputs": [],
   "source": [
    "# Сгруппируем по дате (а именно по неделям) средние значения и суммы поля Комментарии. Запишем данные в переменные\n",
    "\n",
    "temp_mean_comments = df.groupby(df['Date'].dt.isocalendar().week)['Comments'].mean().rename('Mean_comments')\n",
    "temp_sum_comments = df.groupby(df['Date'].dt.isocalendar().week)['Comments'].sum().rename('Sum_comments')\n",
    "temp_mean_reposts = df.groupby(df['Date'].dt.isocalendar().week)['Reposts'].mean().rename('Mean_reposts')\n",
    "temp_sum_reposts = df.groupby(df['Date'].dt.isocalendar().week)['Reposts'].sum().rename('Sum_reposts')"
   ]
  },
  {
   "cell_type": "code",
   "execution_count": 41,
   "id": "2df30e23",
   "metadata": {},
   "outputs": [
    {
     "data": {
      "text/html": [
       "<div>\n",
       "<style scoped>\n",
       "    .dataframe tbody tr th:only-of-type {\n",
       "        vertical-align: middle;\n",
       "    }\n",
       "\n",
       "    .dataframe tbody tr th {\n",
       "        vertical-align: top;\n",
       "    }\n",
       "\n",
       "    .dataframe thead th {\n",
       "        text-align: right;\n",
       "    }\n",
       "</style>\n",
       "<table border=\"1\" class=\"dataframe\">\n",
       "  <thead>\n",
       "    <tr style=\"text-align: right;\">\n",
       "      <th></th>\n",
       "      <th>Mean_comments</th>\n",
       "      <th>Sum_comments</th>\n",
       "      <th>Mean_reposts</th>\n",
       "      <th>Sum_reposts</th>\n",
       "    </tr>\n",
       "    <tr>\n",
       "      <th>week</th>\n",
       "      <th></th>\n",
       "      <th></th>\n",
       "      <th></th>\n",
       "      <th></th>\n",
       "    </tr>\n",
       "  </thead>\n",
       "  <tbody>\n",
       "    <tr>\n",
       "      <th>1</th>\n",
       "      <td>117.000000</td>\n",
       "      <td>1170</td>\n",
       "      <td>241.900000</td>\n",
       "      <td>2419</td>\n",
       "    </tr>\n",
       "    <tr>\n",
       "      <th>2</th>\n",
       "      <td>47.212121</td>\n",
       "      <td>1558</td>\n",
       "      <td>130.545455</td>\n",
       "      <td>4308</td>\n",
       "    </tr>\n",
       "    <tr>\n",
       "      <th>3</th>\n",
       "      <td>53.540000</td>\n",
       "      <td>2677</td>\n",
       "      <td>112.640000</td>\n",
       "      <td>5632</td>\n",
       "    </tr>\n",
       "    <tr>\n",
       "      <th>4</th>\n",
       "      <td>43.234043</td>\n",
       "      <td>2032</td>\n",
       "      <td>127.510638</td>\n",
       "      <td>5993</td>\n",
       "    </tr>\n",
       "    <tr>\n",
       "      <th>5</th>\n",
       "      <td>65.909091</td>\n",
       "      <td>2900</td>\n",
       "      <td>122.113636</td>\n",
       "      <td>5373</td>\n",
       "    </tr>\n",
       "    <tr>\n",
       "      <th>6</th>\n",
       "      <td>58.000000</td>\n",
       "      <td>2494</td>\n",
       "      <td>134.906977</td>\n",
       "      <td>5801</td>\n",
       "    </tr>\n",
       "    <tr>\n",
       "      <th>7</th>\n",
       "      <td>68.590909</td>\n",
       "      <td>3018</td>\n",
       "      <td>127.500000</td>\n",
       "      <td>5610</td>\n",
       "    </tr>\n",
       "    <tr>\n",
       "      <th>8</th>\n",
       "      <td>75.425532</td>\n",
       "      <td>3545</td>\n",
       "      <td>114.957447</td>\n",
       "      <td>5403</td>\n",
       "    </tr>\n",
       "    <tr>\n",
       "      <th>9</th>\n",
       "      <td>71.586957</td>\n",
       "      <td>3293</td>\n",
       "      <td>133.021739</td>\n",
       "      <td>6119</td>\n",
       "    </tr>\n",
       "    <tr>\n",
       "      <th>10</th>\n",
       "      <td>52.568182</td>\n",
       "      <td>2313</td>\n",
       "      <td>135.795455</td>\n",
       "      <td>5975</td>\n",
       "    </tr>\n",
       "    <tr>\n",
       "      <th>11</th>\n",
       "      <td>56.772727</td>\n",
       "      <td>2498</td>\n",
       "      <td>130.977273</td>\n",
       "      <td>5763</td>\n",
       "    </tr>\n",
       "    <tr>\n",
       "      <th>12</th>\n",
       "      <td>81.617021</td>\n",
       "      <td>3836</td>\n",
       "      <td>134.659574</td>\n",
       "      <td>6329</td>\n",
       "    </tr>\n",
       "    <tr>\n",
       "      <th>13</th>\n",
       "      <td>77.928571</td>\n",
       "      <td>3273</td>\n",
       "      <td>146.809524</td>\n",
       "      <td>6166</td>\n",
       "    </tr>\n",
       "    <tr>\n",
       "      <th>14</th>\n",
       "      <td>75.041667</td>\n",
       "      <td>3602</td>\n",
       "      <td>110.041667</td>\n",
       "      <td>5282</td>\n",
       "    </tr>\n",
       "    <tr>\n",
       "      <th>15</th>\n",
       "      <td>50.760870</td>\n",
       "      <td>2335</td>\n",
       "      <td>125.195652</td>\n",
       "      <td>5759</td>\n",
       "    </tr>\n",
       "    <tr>\n",
       "      <th>16</th>\n",
       "      <td>55.760870</td>\n",
       "      <td>2565</td>\n",
       "      <td>152.760870</td>\n",
       "      <td>7027</td>\n",
       "    </tr>\n",
       "    <tr>\n",
       "      <th>17</th>\n",
       "      <td>45.255319</td>\n",
       "      <td>2127</td>\n",
       "      <td>144.553191</td>\n",
       "      <td>6794</td>\n",
       "    </tr>\n",
       "    <tr>\n",
       "      <th>18</th>\n",
       "      <td>58.936170</td>\n",
       "      <td>2770</td>\n",
       "      <td>150.191489</td>\n",
       "      <td>7059</td>\n",
       "    </tr>\n",
       "    <tr>\n",
       "      <th>19</th>\n",
       "      <td>62.790698</td>\n",
       "      <td>2700</td>\n",
       "      <td>122.697674</td>\n",
       "      <td>5276</td>\n",
       "    </tr>\n",
       "    <tr>\n",
       "      <th>20</th>\n",
       "      <td>49.045455</td>\n",
       "      <td>2158</td>\n",
       "      <td>97.272727</td>\n",
       "      <td>4280</td>\n",
       "    </tr>\n",
       "    <tr>\n",
       "      <th>21</th>\n",
       "      <td>49.591837</td>\n",
       "      <td>2430</td>\n",
       "      <td>104.122449</td>\n",
       "      <td>5102</td>\n",
       "    </tr>\n",
       "    <tr>\n",
       "      <th>22</th>\n",
       "      <td>36.456522</td>\n",
       "      <td>1677</td>\n",
       "      <td>119.369565</td>\n",
       "      <td>5491</td>\n",
       "    </tr>\n",
       "    <tr>\n",
       "      <th>23</th>\n",
       "      <td>46.295455</td>\n",
       "      <td>2037</td>\n",
       "      <td>125.613636</td>\n",
       "      <td>5527</td>\n",
       "    </tr>\n",
       "    <tr>\n",
       "      <th>24</th>\n",
       "      <td>41.487805</td>\n",
       "      <td>1701</td>\n",
       "      <td>117.268293</td>\n",
       "      <td>4808</td>\n",
       "    </tr>\n",
       "    <tr>\n",
       "      <th>25</th>\n",
       "      <td>55.339623</td>\n",
       "      <td>2933</td>\n",
       "      <td>104.867925</td>\n",
       "      <td>5558</td>\n",
       "    </tr>\n",
       "    <tr>\n",
       "      <th>26</th>\n",
       "      <td>58.222222</td>\n",
       "      <td>3144</td>\n",
       "      <td>107.777778</td>\n",
       "      <td>5820</td>\n",
       "    </tr>\n",
       "    <tr>\n",
       "      <th>27</th>\n",
       "      <td>36.958333</td>\n",
       "      <td>1774</td>\n",
       "      <td>107.958333</td>\n",
       "      <td>5182</td>\n",
       "    </tr>\n",
       "    <tr>\n",
       "      <th>28</th>\n",
       "      <td>73.975000</td>\n",
       "      <td>2959</td>\n",
       "      <td>108.750000</td>\n",
       "      <td>4350</td>\n",
       "    </tr>\n",
       "    <tr>\n",
       "      <th>29</th>\n",
       "      <td>56.270270</td>\n",
       "      <td>2082</td>\n",
       "      <td>148.540541</td>\n",
       "      <td>5496</td>\n",
       "    </tr>\n",
       "    <tr>\n",
       "      <th>30</th>\n",
       "      <td>81.666667</td>\n",
       "      <td>2450</td>\n",
       "      <td>134.700000</td>\n",
       "      <td>4041</td>\n",
       "    </tr>\n",
       "    <tr>\n",
       "      <th>31</th>\n",
       "      <td>69.238095</td>\n",
       "      <td>1454</td>\n",
       "      <td>144.190476</td>\n",
       "      <td>3028</td>\n",
       "    </tr>\n",
       "    <tr>\n",
       "      <th>32</th>\n",
       "      <td>97.916667</td>\n",
       "      <td>2350</td>\n",
       "      <td>123.125000</td>\n",
       "      <td>2955</td>\n",
       "    </tr>\n",
       "    <tr>\n",
       "      <th>33</th>\n",
       "      <td>52.000000</td>\n",
       "      <td>1352</td>\n",
       "      <td>113.269231</td>\n",
       "      <td>2945</td>\n",
       "    </tr>\n",
       "    <tr>\n",
       "      <th>34</th>\n",
       "      <td>85.965517</td>\n",
       "      <td>2493</td>\n",
       "      <td>150.517241</td>\n",
       "      <td>4365</td>\n",
       "    </tr>\n",
       "    <tr>\n",
       "      <th>35</th>\n",
       "      <td>127.774194</td>\n",
       "      <td>3961</td>\n",
       "      <td>142.258065</td>\n",
       "      <td>4410</td>\n",
       "    </tr>\n",
       "    <tr>\n",
       "      <th>36</th>\n",
       "      <td>50.000000</td>\n",
       "      <td>1600</td>\n",
       "      <td>129.937500</td>\n",
       "      <td>4158</td>\n",
       "    </tr>\n",
       "    <tr>\n",
       "      <th>37</th>\n",
       "      <td>71.593750</td>\n",
       "      <td>2291</td>\n",
       "      <td>124.968750</td>\n",
       "      <td>3999</td>\n",
       "    </tr>\n",
       "    <tr>\n",
       "      <th>38</th>\n",
       "      <td>61.733333</td>\n",
       "      <td>926</td>\n",
       "      <td>88.933333</td>\n",
       "      <td>1334</td>\n",
       "    </tr>\n",
       "    <tr>\n",
       "      <th>39</th>\n",
       "      <td>51.266667</td>\n",
       "      <td>1538</td>\n",
       "      <td>21.333333</td>\n",
       "      <td>640</td>\n",
       "    </tr>\n",
       "    <tr>\n",
       "      <th>40</th>\n",
       "      <td>53.666667</td>\n",
       "      <td>1610</td>\n",
       "      <td>59.333333</td>\n",
       "      <td>1780</td>\n",
       "    </tr>\n",
       "    <tr>\n",
       "      <th>41</th>\n",
       "      <td>81.800000</td>\n",
       "      <td>2454</td>\n",
       "      <td>73.566667</td>\n",
       "      <td>2207</td>\n",
       "    </tr>\n",
       "    <tr>\n",
       "      <th>42</th>\n",
       "      <td>110.200000</td>\n",
       "      <td>3306</td>\n",
       "      <td>74.400000</td>\n",
       "      <td>2232</td>\n",
       "    </tr>\n",
       "    <tr>\n",
       "      <th>43</th>\n",
       "      <td>69.906250</td>\n",
       "      <td>2237</td>\n",
       "      <td>68.000000</td>\n",
       "      <td>2176</td>\n",
       "    </tr>\n",
       "    <tr>\n",
       "      <th>44</th>\n",
       "      <td>120.677419</td>\n",
       "      <td>3741</td>\n",
       "      <td>74.032258</td>\n",
       "      <td>2295</td>\n",
       "    </tr>\n",
       "    <tr>\n",
       "      <th>45</th>\n",
       "      <td>108.586207</td>\n",
       "      <td>3149</td>\n",
       "      <td>82.517241</td>\n",
       "      <td>2393</td>\n",
       "    </tr>\n",
       "    <tr>\n",
       "      <th>46</th>\n",
       "      <td>95.382353</td>\n",
       "      <td>3243</td>\n",
       "      <td>60.352941</td>\n",
       "      <td>2052</td>\n",
       "    </tr>\n",
       "    <tr>\n",
       "      <th>47</th>\n",
       "      <td>107.709677</td>\n",
       "      <td>3339</td>\n",
       "      <td>68.774194</td>\n",
       "      <td>2132</td>\n",
       "    </tr>\n",
       "    <tr>\n",
       "      <th>48</th>\n",
       "      <td>92.052632</td>\n",
       "      <td>3498</td>\n",
       "      <td>72.000000</td>\n",
       "      <td>2736</td>\n",
       "    </tr>\n",
       "    <tr>\n",
       "      <th>49</th>\n",
       "      <td>104.000000</td>\n",
       "      <td>3224</td>\n",
       "      <td>85.225806</td>\n",
       "      <td>2642</td>\n",
       "    </tr>\n",
       "    <tr>\n",
       "      <th>50</th>\n",
       "      <td>55.473684</td>\n",
       "      <td>2108</td>\n",
       "      <td>59.184211</td>\n",
       "      <td>2249</td>\n",
       "    </tr>\n",
       "    <tr>\n",
       "      <th>51</th>\n",
       "      <td>83.312500</td>\n",
       "      <td>2666</td>\n",
       "      <td>69.281250</td>\n",
       "      <td>2217</td>\n",
       "    </tr>\n",
       "    <tr>\n",
       "      <th>52</th>\n",
       "      <td>68.783784</td>\n",
       "      <td>2545</td>\n",
       "      <td>117.621622</td>\n",
       "      <td>4352</td>\n",
       "    </tr>\n",
       "    <tr>\n",
       "      <th>53</th>\n",
       "      <td>58.739130</td>\n",
       "      <td>1351</td>\n",
       "      <td>152.608696</td>\n",
       "      <td>3510</td>\n",
       "    </tr>\n",
       "  </tbody>\n",
       "</table>\n",
       "</div>"
      ],
      "text/plain": [
       "      Mean_comments  Sum_comments  Mean_reposts  Sum_reposts\n",
       "week                                                        \n",
       "1        117.000000          1170    241.900000         2419\n",
       "2         47.212121          1558    130.545455         4308\n",
       "3         53.540000          2677    112.640000         5632\n",
       "4         43.234043          2032    127.510638         5993\n",
       "5         65.909091          2900    122.113636         5373\n",
       "6         58.000000          2494    134.906977         5801\n",
       "7         68.590909          3018    127.500000         5610\n",
       "8         75.425532          3545    114.957447         5403\n",
       "9         71.586957          3293    133.021739         6119\n",
       "10        52.568182          2313    135.795455         5975\n",
       "11        56.772727          2498    130.977273         5763\n",
       "12        81.617021          3836    134.659574         6329\n",
       "13        77.928571          3273    146.809524         6166\n",
       "14        75.041667          3602    110.041667         5282\n",
       "15        50.760870          2335    125.195652         5759\n",
       "16        55.760870          2565    152.760870         7027\n",
       "17        45.255319          2127    144.553191         6794\n",
       "18        58.936170          2770    150.191489         7059\n",
       "19        62.790698          2700    122.697674         5276\n",
       "20        49.045455          2158     97.272727         4280\n",
       "21        49.591837          2430    104.122449         5102\n",
       "22        36.456522          1677    119.369565         5491\n",
       "23        46.295455          2037    125.613636         5527\n",
       "24        41.487805          1701    117.268293         4808\n",
       "25        55.339623          2933    104.867925         5558\n",
       "26        58.222222          3144    107.777778         5820\n",
       "27        36.958333          1774    107.958333         5182\n",
       "28        73.975000          2959    108.750000         4350\n",
       "29        56.270270          2082    148.540541         5496\n",
       "30        81.666667          2450    134.700000         4041\n",
       "31        69.238095          1454    144.190476         3028\n",
       "32        97.916667          2350    123.125000         2955\n",
       "33        52.000000          1352    113.269231         2945\n",
       "34        85.965517          2493    150.517241         4365\n",
       "35       127.774194          3961    142.258065         4410\n",
       "36        50.000000          1600    129.937500         4158\n",
       "37        71.593750          2291    124.968750         3999\n",
       "38        61.733333           926     88.933333         1334\n",
       "39        51.266667          1538     21.333333          640\n",
       "40        53.666667          1610     59.333333         1780\n",
       "41        81.800000          2454     73.566667         2207\n",
       "42       110.200000          3306     74.400000         2232\n",
       "43        69.906250          2237     68.000000         2176\n",
       "44       120.677419          3741     74.032258         2295\n",
       "45       108.586207          3149     82.517241         2393\n",
       "46        95.382353          3243     60.352941         2052\n",
       "47       107.709677          3339     68.774194         2132\n",
       "48        92.052632          3498     72.000000         2736\n",
       "49       104.000000          3224     85.225806         2642\n",
       "50        55.473684          2108     59.184211         2249\n",
       "51        83.312500          2666     69.281250         2217\n",
       "52        68.783784          2545    117.621622         4352\n",
       "53        58.739130          1351    152.608696         3510"
      ]
     },
     "execution_count": 41,
     "metadata": {},
     "output_type": "execute_result"
    }
   ],
   "source": [
    "# Сделаем общую таблицу на основе агрегированных значений \n",
    "\n",
    "comments_reposts_agg = pd.concat([temp_mean_comments, temp_sum_comments, \n",
    "                                  temp_mean_reposts, temp_sum_reposts], axis=1)\n",
    "comments_reposts_agg"
   ]
  },
  {
   "cell_type": "code",
   "execution_count": 63,
   "id": "79e5c071",
   "metadata": {},
   "outputs": [
    {
     "data": {
      "text/plain": [
       "Mean_comments  Mean_comments    1.000000\n",
       "Mean_reposts   Sum_reposts      0.584302\n",
       "Mean_comments  Sum_comments     0.568941\n",
       "Sum_comments   Sum_reposts      0.204318\n",
       "Mean_comments  Mean_reposts    -0.059050\n",
       "Sum_comments   Mean_reposts    -0.174970\n",
       "Mean_comments  Sum_reposts     -0.454934\n",
       "dtype: float64"
      ]
     },
     "execution_count": 63,
     "metadata": {},
     "output_type": "execute_result"
    }
   ],
   "source": [
    "# Вычислим корреляцию Пирсона по описательным статистикам. Удалим дубликаты сравнений колонок\n",
    "\n",
    "corr_comments_reposts_agg = comments_reposts_agg.corr()\n",
    "\n",
    "# Удалим дубликаты сравнений колонок\n",
    "\n",
    "corr_comments_reposts_agg = corr_comments_reposts_agg.unstack().sort_values(ascending=False).drop_duplicates()\n",
    "corr_comments_reposts_agg"
   ]
  },
  {
   "cell_type": "code",
   "execution_count": 61,
   "id": "a86c8939",
   "metadata": {},
   "outputs": [
    {
     "data": {
      "text/plain": [
       "<AxesSubplot:xlabel='Mean_reposts', ylabel='Sum_reposts'>"
      ]
     },
     "execution_count": 61,
     "metadata": {},
     "output_type": "execute_result"
    },
    {
     "data": {
      "image/png": "[encoded data removed]",
      "text/plain": [
       "<Figure size 576x288 with 1 Axes>"
      ]
     },
     "metadata": {
      "needs_background": "light"
     },
     "output_type": "display_data"
    },
    {
     "data": {
      "image/png": "[encoded data removed]",
      "text/plain": [
       "<Figure size 576x288 with 1 Axes>"
      ]
     },
     "metadata": {
      "needs_background": "light"
     },
     "output_type": "display_data"
    },
    {
     "data": {
      "image/png": "[encoded data removed]",
      "text/plain": [
       "<Figure size 576x288 with 1 Axes>"
      ]
     },
     "metadata": {
      "needs_background": "light"
     },
     "output_type": "display_data"
    }
   ],
   "source": [
    "# Построим график рассеяния для тех корреляций где есть зависимость.\n",
    "\n",
    "comments_reposts_agg.plot('Mean_comments', 'Sum_reposts', figsize=(8, 4), kind='scatter')\n",
    "comments_reposts_agg.plot('Mean_comments', 'Sum_comments', figsize=(8, 4), kind='scatter')\n",
    "comments_reposts_agg.plot('Mean_reposts', 'Sum_reposts', figsize=(8, 4), kind='scatter')"
   ]
  },
  {
   "cell_type": "code",
   "execution_count": 62,
   "id": "6af91ee4",
   "metadata": {},
   "outputs": [
    {
     "data": {
      "text/plain": [
       "<AxesSubplot:xlabel='Mean_comments', ylabel='Mean_reposts'>"
      ]
     },
     "execution_count": 62,
     "metadata": {},
     "output_type": "execute_result"
    },
    {
     "data": {
      "image/png": "[encoded data removed]",
      "text/plain": [
       "<Figure size 576x288 with 1 Axes>"
      ]
     },
     "metadata": {
      "needs_background": "light"
     },
     "output_type": "display_data"
    }
   ],
   "source": [
    "# Оказывается что между средним кол-вом комментариев и средним кол-вом репостов почти нет взаимосвязи.\n",
    "# Можно было предположить обратное, т.к. оба критерия \"сложные\", т.е. нужно приложить некое человеческое \"усилие\".\n",
    "comments_reposts_agg.plot('Mean_comments', 'Mean_reposts', figsize=(8, 4), kind='scatter')"
   ]
  },
  {
   "cell_type": "markdown",
   "id": "26178fc1",
   "metadata": {},
   "source": [
    "## Проведем те же вычисления, но только по месяцам, а не по неделям. \n",
    "## Посмотрим как изменится результат."
   ]
  },
  {
   "cell_type": "code",
   "execution_count": 68,
   "id": "5e43c83f",
   "metadata": {},
   "outputs": [],
   "source": [
    "month_mean_comments = df.groupby(df['Date'].dt.month)['Comments'].mean().rename('Mean_comments')\n",
    "month_sum_comments = df.groupby(df['Date'].dt.month)['Comments'].sum().rename('Sum_comments')\n",
    "month_mean_reposts = df.groupby(df['Date'].dt.month)['Reposts'].mean().rename('Mean_reposts')\n",
    "month_sum_reposts = df.groupby(df['Date'].dt.month)['Reposts'].sum().rename('Sum_reposts')"
   ]
  },
  {
   "cell_type": "code",
   "execution_count": 70,
   "id": "6fa96218",
   "metadata": {},
   "outputs": [
    {
     "data": {
      "text/html": [
       "<div>\n",
       "<style scoped>\n",
       "    .dataframe tbody tr th:only-of-type {\n",
       "        vertical-align: middle;\n",
       "    }\n",
       "\n",
       "    .dataframe tbody tr th {\n",
       "        vertical-align: top;\n",
       "    }\n",
       "\n",
       "    .dataframe thead th {\n",
       "        text-align: right;\n",
       "    }\n",
       "</style>\n",
       "<table border=\"1\" class=\"dataframe\">\n",
       "  <thead>\n",
       "    <tr style=\"text-align: right;\">\n",
       "      <th></th>\n",
       "      <th>Mean_comments</th>\n",
       "      <th>Sum_comments</th>\n",
       "      <th>Mean_reposts</th>\n",
       "      <th>Sum_reposts</th>\n",
       "    </tr>\n",
       "    <tr>\n",
       "      <th>Date</th>\n",
       "      <th></th>\n",
       "      <th></th>\n",
       "      <th></th>\n",
       "      <th></th>\n",
       "    </tr>\n",
       "  </thead>\n",
       "  <tbody>\n",
       "    <tr>\n",
       "      <th>1</th>\n",
       "      <td>53.601351</td>\n",
       "      <td>7933</td>\n",
       "      <td>136.175676</td>\n",
       "      <td>20154</td>\n",
       "    </tr>\n",
       "    <tr>\n",
       "      <th>2</th>\n",
       "      <td>67.174157</td>\n",
       "      <td>11957</td>\n",
       "      <td>124.646067</td>\n",
       "      <td>22187</td>\n",
       "    </tr>\n",
       "    <tr>\n",
       "      <th>3</th>\n",
       "      <td>66.705000</td>\n",
       "      <td>13341</td>\n",
       "      <td>135.700000</td>\n",
       "      <td>27140</td>\n",
       "    </tr>\n",
       "    <tr>\n",
       "      <th>4</th>\n",
       "      <td>61.207071</td>\n",
       "      <td>12119</td>\n",
       "      <td>130.181818</td>\n",
       "      <td>25776</td>\n",
       "    </tr>\n",
       "    <tr>\n",
       "      <th>5</th>\n",
       "      <td>52.512315</td>\n",
       "      <td>10660</td>\n",
       "      <td>121.566502</td>\n",
       "      <td>24678</td>\n",
       "    </tr>\n",
       "    <tr>\n",
       "      <th>6</th>\n",
       "      <td>51.955224</td>\n",
       "      <td>10443</td>\n",
       "      <td>115.865672</td>\n",
       "      <td>23289</td>\n",
       "    </tr>\n",
       "    <tr>\n",
       "      <th>7</th>\n",
       "      <td>54.178771</td>\n",
       "      <td>9698</td>\n",
       "      <td>122.284916</td>\n",
       "      <td>21889</td>\n",
       "    </tr>\n",
       "    <tr>\n",
       "      <th>8</th>\n",
       "      <td>77.732759</td>\n",
       "      <td>9017</td>\n",
       "      <td>128.129310</td>\n",
       "      <td>14863</td>\n",
       "    </tr>\n",
       "    <tr>\n",
       "      <th>9</th>\n",
       "      <td>70.316901</td>\n",
       "      <td>9985</td>\n",
       "      <td>100.683099</td>\n",
       "      <td>14297</td>\n",
       "    </tr>\n",
       "    <tr>\n",
       "      <th>10</th>\n",
       "      <td>87.647059</td>\n",
       "      <td>11920</td>\n",
       "      <td>69.198529</td>\n",
       "      <td>9411</td>\n",
       "    </tr>\n",
       "    <tr>\n",
       "      <th>11</th>\n",
       "      <td>102.638298</td>\n",
       "      <td>14472</td>\n",
       "      <td>70.971631</td>\n",
       "      <td>10007</td>\n",
       "    </tr>\n",
       "    <tr>\n",
       "      <th>12</th>\n",
       "      <td>73.932432</td>\n",
       "      <td>10942</td>\n",
       "      <td>86.885135</td>\n",
       "      <td>12859</td>\n",
       "    </tr>\n",
       "  </tbody>\n",
       "</table>\n",
       "</div>"
      ],
      "text/plain": [
       "      Mean_comments  Sum_comments  Mean_reposts  Sum_reposts\n",
       "Date                                                        \n",
       "1         53.601351          7933    136.175676        20154\n",
       "2         67.174157         11957    124.646067        22187\n",
       "3         66.705000         13341    135.700000        27140\n",
       "4         61.207071         12119    130.181818        25776\n",
       "5         52.512315         10660    121.566502        24678\n",
       "6         51.955224         10443    115.865672        23289\n",
       "7         54.178771          9698    122.284916        21889\n",
       "8         77.732759          9017    128.129310        14863\n",
       "9         70.316901          9985    100.683099        14297\n",
       "10        87.647059         11920     69.198529         9411\n",
       "11       102.638298         14472     70.971631        10007\n",
       "12        73.932432         10942     86.885135        12859"
      ]
     },
     "execution_count": 70,
     "metadata": {},
     "output_type": "execute_result"
    }
   ],
   "source": [
    "month_comments_reposts_agg = pd.concat([month_mean_comments, month_sum_comments, \n",
    "                                  month_mean_reposts, month_sum_reposts], axis=1)\n",
    "month_comments_reposts_agg"
   ]
  },
  {
   "cell_type": "code",
   "execution_count": 72,
   "id": "f98d7073",
   "metadata": {},
   "outputs": [
    {
     "data": {
      "text/plain": [
       "Mean_comments  Mean_comments    1.000000\n",
       "Mean_reposts   Sum_reposts      0.845779\n",
       "Mean_comments  Sum_comments     0.576739\n",
       "Sum_comments   Sum_reposts     -0.067869\n",
       "               Mean_reposts    -0.423377\n",
       "Mean_comments  Mean_reposts    -0.762625\n",
       "               Sum_reposts     -0.801000\n",
       "dtype: float64"
      ]
     },
     "execution_count": 72,
     "metadata": {},
     "output_type": "execute_result"
    }
   ],
   "source": [
    "corr_month_agg = month_comments_reposts_agg.corr().unstack().sort_values(ascending=False).drop_duplicates()\n",
    "corr_month_agg\n",
    "\n",
    "# Взаимосвязь местами весьма сильная."
   ]
  },
  {
   "cell_type": "code",
   "execution_count": 74,
   "id": "726721b1",
   "metadata": {},
   "outputs": [
    {
     "data": {
      "text/plain": [
       "<AxesSubplot:xlabel='Mean_reposts', ylabel='Sum_reposts'>"
      ]
     },
     "execution_count": 74,
     "metadata": {},
     "output_type": "execute_result"
    },
    {
     "data": {
      "image/png": "[encoded data removed]",
      "text/plain": [
       "<Figure size 576x288 with 1 Axes>"
      ]
     },
     "metadata": {
      "needs_background": "light"
     },
     "output_type": "display_data"
    },
    {
     "data": {
      "image/png": "[encoded data removed]",
      "text/plain": [
       "<Figure size 576x288 with 1 Axes>"
      ]
     },
     "metadata": {
      "needs_background": "light"
     },
     "output_type": "display_data"
    },
    {
     "data": {
      "image/png": "[encoded data removed]",
      "text/plain": [
       "<Figure size 576x288 with 1 Axes>"
      ]
     },
     "metadata": {
      "needs_background": "light"
     },
     "output_type": "display_data"
    }
   ],
   "source": [
    "# Надо бы циклом попробовать пройтись\n",
    "month_comments_reposts_agg.plot('Mean_comments', 'Sum_reposts', figsize=(8, 4), kind='scatter')\n",
    "month_comments_reposts_agg.plot('Mean_comments', 'Sum_comments', figsize=(8, 4), kind='scatter')\n",
    "month_comments_reposts_agg.plot('Mean_reposts', 'Sum_reposts', figsize=(8, 4), kind='scatter')"
   ]
  },
  {
   "cell_type": "markdown",
   "id": "6bf55e17",
   "metadata": {},
   "source": [
    "## Проверим, есть ли корреляция между столбцами исходного датасета (без вычисления агрегатов)"
   ]
  },
  {
   "cell_type": "code",
   "execution_count": 64,
   "id": "1ce2e175",
   "metadata": {},
   "outputs": [
    {
     "data": {
      "text/plain": [
       "Likes     Likes       1.000000\n",
       "Reposts   Reposts     1.000000\n",
       "Views     Views       1.000000\n",
       "Comments  Comments    1.000000\n",
       "ER        ER          1.000000\n",
       "          Likes       0.976639\n",
       "Likes     ER          0.976639\n",
       "Views     ER          0.870033\n",
       "ER        Views       0.870033\n",
       "Views     Likes       0.857646\n",
       "Likes     Views       0.857646\n",
       "Reposts   ER          0.746504\n",
       "ER        Reposts     0.746504\n",
       "Likes     Reposts     0.659383\n",
       "Reposts   Likes       0.659383\n",
       "Views     Reposts     0.626312\n",
       "Reposts   Views       0.626312\n",
       "ER        Comments    0.619908\n",
       "Comments  ER          0.619908\n",
       "Views     Comments    0.531253\n",
       "Comments  Views       0.531253\n",
       "Likes     Comments    0.492798\n",
       "Comments  Likes       0.492798\n",
       "          Reposts     0.293442\n",
       "Reposts   Comments    0.293442\n",
       "dtype: float64"
      ]
     },
     "execution_count": 64,
     "metadata": {},
     "output_type": "execute_result"
    }
   ],
   "source": [
    "# Вычислим корреляцию Пирсона по всему датасету. \n",
    "df.corr().unstack().sort_values(ascending=False)"
   ]
  },
  {
   "cell_type": "code",
   "execution_count": 65,
   "id": "20b4d741",
   "metadata": {},
   "outputs": [
    {
     "data": {
      "text/plain": [
       "Likes     Likes       1.000000\n",
       "ER        Likes       0.976639\n",
       "Views     ER          0.870033\n",
       "          Likes       0.857646\n",
       "Reposts   ER          0.746504\n",
       "Likes     Reposts     0.659383\n",
       "Views     Reposts     0.626312\n",
       "ER        Comments    0.619908\n",
       "Views     Comments    0.531253\n",
       "Likes     Comments    0.492798\n",
       "Comments  Reposts     0.293442\n",
       "dtype: float64"
      ]
     },
     "execution_count": 65,
     "metadata": {},
     "output_type": "execute_result"
    }
   ],
   "source": [
    "# Теперь удалим дубликаты сравнений колонок\n",
    "# Видим что корреляций очень много!\n",
    "df_correlation = df.corr().unstack().sort_values(ascending=False)\n",
    "df_correlation.drop_duplicates()"
   ]
  },
  {
   "cell_type": "code",
   "execution_count": 45,
   "id": "b100cf72",
   "metadata": {},
   "outputs": [
    {
     "data": {
      "text/plain": [
       "<AxesSubplot:xlabel='Comments', ylabel='Reposts'>"
      ]
     },
     "execution_count": 45,
     "metadata": {},
     "output_type": "execute_result"
    },
    {
     "data": {
      "image/png": "[encoded data removed]",
      "text/plain": [
       "<Figure size 1152x576 with 1 Axes>"
      ]
     },
     "metadata": {
      "needs_background": "light"
     },
     "output_type": "display_data"
    }
   ],
   "source": [
    "# Корреляция Пирсона показала что между комментариями и репостами существует слабая зависимость.\n",
    "# Анализ средних вечилин коммендов и репостов показал, что взаимосвязь между ними почти отсутсвует. \n",
    "# Построим график рассеяния для комментов и репостов\n",
    "df.plot('Comments', 'Reposts', figsize=(16, 8), kind='scatter')"
   ]
  }
 ],
 "metadata": {
  "kernelspec": {
   "display_name": "Python 3 (ipykernel)",
   "language": "python",
   "name": "python3"
  },
  "language_info": {
   "codemirror_mode": {
    "name": "ipython",
    "version": 3
   },
   "file_extension": ".py",
   "mimetype": "text/x-python",
   "name": "python",
   "nbconvert_exporter": "python",
   "pygments_lexer": "ipython3",
   "version": "3.9.7"
  }
 },
 "nbformat": 4,
 "nbformat_minor": 5
}
